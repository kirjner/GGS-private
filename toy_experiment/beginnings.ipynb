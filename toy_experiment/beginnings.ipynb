{
 "cells": [
  {
   "cell_type": "code",
   "execution_count": 156,
   "id": "40c99827-18cc-4f90-b686-444fdc744b3a",
   "metadata": {},
   "outputs": [],
   "source": [
    "import numpy as np\n",
    "import pandas as pd\n",
    "from tqdm import tqdm\n",
    "\n",
    "# Set a seed for reproducibility\n",
    "np.random.seed(42)\n",
    "\n",
    "def generate_diamond_border(n, dtype = 'int'):\n",
    "    # Create an n x n matrix filled with zeros\n",
    "    diamond_border = np.zeros((n, n))\n",
    "\n",
    "    # Determine the size of the diamond\n",
    "    diamond_size = n // 2\n",
    "\n",
    "    for i in range(diamond_size):\n",
    "        # Top part of the diamond\n",
    "        diamond_border[i, diamond_size - i] = 1\n",
    "        diamond_border[i, diamond_size + i] = 1\n",
    "\n",
    "        # Bottom part of the diamond\n",
    "        diamond_border[n - i - 1, diamond_size - i] = 1\n",
    "        diamond_border[n - i - 1, diamond_size + i] = 1\n",
    "    if n % 2 == 1:\n",
    "        diamond_border[diamond_size, 0] = 1\n",
    "        diamond_border[diamond_size, -1] = 1\n",
    "    if dtype == 'bool':\n",
    "        return diamond_border.astype(bool)\n",
    "    return diamond_border\n",
    "\n",
    "# Generate the diamond border and noise\n",
    "n = 9\n",
    "diamond_border = generate_diamond_border(n)\n",
    "\n",
    "\n",
    "\n",
    "def plot_sequence(sequence):\n",
    "    # Convert sequence from string to list of integers\n",
    "    vector = np.array(list(map(int, sequence)))\n",
    "\n",
    "    # Reshape vector into n x n grid\n",
    "    grid = np.reshape(vector, (n, n))\n",
    "\n",
    "    # Create a figure and a set of subplots\n",
    "    fig, ax = plt.subplots()\n",
    "\n",
    "    # Display data as an image\n",
    "    ax.imshow(grid, cmap='gray_r')\n",
    "\n",
    "    # Draw gridlines\n",
    "    ax.grid(True, which='both', color='black', linewidth=1)\n",
    "\n",
    "    # Configure gridlines\n",
    "    ax.set_xticks(np.arange(-0.5, n, 1), minor=False)\n",
    "    ax.set_yticks(np.arange(-0.5, n, 1), minor=False)\n",
    "    \n",
    "    # Remove labels from gridlines\n",
    "    ax.set_xticklabels([])\n",
    "    ax.set_yticklabels([])\n",
    "\n",
    "    # Display the plot\n",
    "    plt.show()\n",
    "\n",
    "import random\n",
    "\n",
    "# Initialize a dictionary with random values between 0 and 0.5 for each position\n",
    "random_values = {i: random.uniform(0, 1) for i in range(n*n)}\n",
    "\n",
    "def fitness(vector):\n",
    "    if isinstance(vector, str):\n",
    "        vector = np.array(list(map(int, vector)))\n",
    "\n",
    "    # Reshape vector into n x n grid\n",
    "    grid = np.reshape(vector, (n, n))\n",
    "\n",
    "    # Compute fitness by summing pixel values\n",
    "    fitness_values = np.zeros_like(grid, dtype=float)\n",
    "    for i in range(n):\n",
    "        for j in range(n):\n",
    "            if grid[i, j] == 1:\n",
    "                fitness_values[i, j] = diamond_border[i, j]\n",
    "            else:\n",
    "                fitness_values[i, j] = random_values[i*n + j]\n",
    "\n",
    "    fitness_base = np.sum(fitness_values)\n",
    "\n",
    "    return fitness_base\n"
   ]
  },
  {
   "cell_type": "code",
   "execution_count": 175,
   "id": "d3ead7b8-4f5d-4fec-8af3-47bdceb1e999",
   "metadata": {},
   "outputs": [],
   "source": [
    "# Initialize list to hold sequences and their targets\n",
    "data = []\n",
    "seen_set = set()\n",
    "# Sample 100k binary vectors and compute their fitnesses\n",
    "while len(data) < 1e5:\n",
    "    # Generate random binary vector\n",
    "    vector = np.random.randint(2, size=n*n)\n",
    "    seq = ''.join(map(str, vector.astype(int)))\n",
    "    if seq in seen_set:\n",
    "        continue\n",
    "    seen_set.add(seq)\n",
    "    # Compute fitness\n",
    "    fitness_value = fitness(vector)\n",
    "    \n",
    "    # Convert vector to string for easier storage and retrieval\n",
    "    sequence = ''.join(map(str, vector))\n",
    "    \n",
    "    # Append sequence and fitness to data\n",
    "    data.append([sequence, fitness_value])\n",
    "\n",
    "# Create a DataFrame\n",
    "df = pd.DataFrame(data, columns=['sequence', 'target'])"
   ]
  },
  {
   "cell_type": "code",
   "execution_count": 158,
   "id": "56afef45-0302-40dd-8a3c-0e595d8e5d1d",
   "metadata": {},
   "outputs": [
    {
     "data": {
      "image/png": "[encoded data removed]",
      "text/plain": [
       "<Figure size 640x480 with 1 Axes>"
      ]
     },
     "metadata": {},
     "output_type": "display_data"
    }
   ],
   "source": [
    "import matplotlib.pyplot as plt\n",
    "plt.hist(df.target, bins = 2000)\n",
    "plt.show()"
   ]
  },
  {
   "cell_type": "code",
   "execution_count": 176,
   "id": "7631c9fd-6c04-4332-98a9-9960c22d3c8d",
   "metadata": {},
   "outputs": [],
   "source": [
    "max_seq = df[df.target == df.target.max()].sequence.values[0]"
   ]
  },
  {
   "cell_type": "code",
   "execution_count": 177,
   "id": "cb07832f-5ba0-4434-b895-ad080f2be397",
   "metadata": {},
   "outputs": [
    {
     "data": {
      "image/png": "[encoded data removed]",
      "text/plain": [
       "<Figure size 640x480 with 1 Axes>"
      ]
     },
     "metadata": {},
     "output_type": "display_data"
    }
   ],
   "source": [
    "plot_sequence(max_seq)"
   ]
  },
  {
   "cell_type": "code",
   "execution_count": 178,
   "id": "04ea9653-e304-40e9-8073-19e5c9f08a1d",
   "metadata": {},
   "outputs": [],
   "source": [
    "def generate_diamond_sequence(n):\n",
    "    # Create the diamond grid using the generate_diamond_border function\n",
    "    diamond_grid = generate_diamond_border(n)\n",
    "\n",
    "    # Flatten the grid into a vector\n",
    "    diamond_vector = diamond_grid.flatten()\n",
    "\n",
    "    # Convert the vector into a binary sequence string\n",
    "    diamond_sequence = ''.join(map(str, diamond_vector.astype(int)))\n",
    "\n",
    "    return diamond_sequence"
   ]
  },
  {
   "cell_type": "code",
   "execution_count": 179,
   "id": "e29d9528-9bbe-4c13-872e-d634a7cc0d65",
   "metadata": {},
   "outputs": [
    {
     "data": {
      "text/plain": [
       "45.95911137898864"
      ]
     },
     "execution_count": 179,
     "metadata": {},
     "output_type": "execute_result"
    }
   ],
   "source": [
    "best_seq = generate_diamond_sequence(9)\n",
    "fitness(best_seq)"
   ]
  },
  {
   "cell_type": "code",
   "execution_count": 180,
   "id": "4334dbc9-47ec-47e7-885d-8ddeb9f78b22",
   "metadata": {},
   "outputs": [
    {
     "data": {
      "text/plain": [
       "38.44287473534286"
      ]
     },
     "execution_count": 180,
     "metadata": {},
     "output_type": "execute_result"
    }
   ],
   "source": [
    "df.target.max()"
   ]
  },
  {
   "cell_type": "code",
   "execution_count": null,
   "id": "812eba9b-5a01-4222-a302-7b4a86c93404",
   "metadata": {},
   "outputs": [],
   "source": []
  }
 ],
 "metadata": {
  "kernelspec": {
   "display_name": "ggs",
   "language": "python",
   "name": "ggs"
  },
  "language_info": {
   "codemirror_mode": {
    "name": "ipython",
    "version": 3
   },
   "file_extension": ".py",
   "mimetype": "text/x-python",
   "name": "python",
   "nbconvert_exporter": "python",
   "pygments_lexer": "ipython3",
   "version": "3.9.16"
  }
 },
 "nbformat": 4,
 "nbformat_minor": 5
}
