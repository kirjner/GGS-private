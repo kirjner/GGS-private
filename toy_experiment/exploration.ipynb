{
 "cells": [
  {
   "cell_type": "code",
   "execution_count": 1,
   "id": "40c99827-18cc-4f90-b686-444fdc744b3a",
   "metadata": {},
   "outputs": [],
   "source": [
    "import numpy as np\n",
    "import pandas as pd\n",
    "from tqdm import tqdm\n",
    "import matplotlib.pyplot as plt\n",
    "\n",
    "# Set a seed for reproducibility\n",
    "np.random.seed(42)\n",
    "\n",
    "\n",
    "\n",
    "def generate_diamond_border(n, dtype = 'int'):\n",
    "    # Create an n x n matrix filled with zeros\n",
    "    diamond_border = np.zeros((n, n))\n",
    "\n",
    "    # Determine the size of the diamond\n",
    "    diamond_size = n // 2\n",
    "\n",
    "    for i in range(diamond_size):\n",
    "        # Top part of the diamond\n",
    "        diamond_border[i, diamond_size - i] = 1\n",
    "        diamond_border[i, diamond_size + i] = 1\n",
    "\n",
    "        # Bottom part of the diamond\n",
    "        diamond_border[n - i - 1, diamond_size - i] = 1\n",
    "        diamond_border[n - i - 1, diamond_size + i] = 1\n",
    "    if n % 2 == 1:\n",
    "        diamond_border[diamond_size, 0] = 1\n",
    "        diamond_border[diamond_size, -1] = 1\n",
    "    if dtype == 'bool':\n",
    "        return diamond_border.astype(bool)\n",
    "    return diamond_border\n",
    "\n",
    "# Generate the diamond border and noise\n",
    "n = 21\n",
    "diamond_border = generate_diamond_border(n)\n",
    "\n",
    "def generate_diamond_sequence(n):\n",
    "    # Create the diamond grid using the generate_diamond_border function\n",
    "    diamond_grid = generate_diamond_border(n)\n",
    "\n",
    "    # Flatten the grid into a vector\n",
    "    diamond_vector = diamond_grid.flatten()\n",
    "\n",
    "    # Convert the vector into a binary sequence string\n",
    "    diamond_sequence = ''.join(map(str, diamond_vector.astype(int)))\n",
    "\n",
    "    return diamond_sequence\n",
    "\n",
    "def plot_sequence(sequence):\n",
    "    diamond_grid = generate_diamond_border(21)\n",
    "    # Convert sequence from string to list of integers\n",
    "    vector = np.array(list(map(int, sequence)))\n",
    "\n",
    "    # Reshape vector into n x n grid\n",
    "    grid = np.reshape(vector, (n, n))\n",
    "\n",
    "    color_grid = np.where((grid == 1) & (diamond_grid == 1), 2, grid)\n",
    "\n",
    "    # Create a colormap: 0 (white), 1 (black), 2 (red)\n",
    "    colors = [(1, 1, 1), (0, 0, 0), (1, 0, 0)]\n",
    "    cmap = plt.matplotlib.colors.ListedColormap(colors)\n",
    "\n",
    "    # Create a figure and a set of subplots\n",
    "    fig, ax = plt.subplots()\n",
    "\n",
    "    # Display data as an image\n",
    "    ax.imshow(color_grid, cmap=cmap)\n",
    "\n",
    "    # Draw gridlines\n",
    "    ax.grid(True, which='both', color='black', linewidth=1)\n",
    "\n",
    "    # Configure gridlines\n",
    "    ax.set_xticks(np.arange(-0.5, n, 1), minor=False)\n",
    "    ax.set_yticks(np.arange(-0.5, n, 1), minor=False)\n",
    "    \n",
    "    # Remove labels from gridlines\n",
    "    ax.set_xticklabels([])\n",
    "    ax.set_yticklabels([])\n",
    "\n",
    "    # Display the plot\n",
    "    plt.show()\n",
    "\n",
    "import random\n",
    "\n",
    "# Initialize a dictionary with random values between 0 and 0.5 for each position\n",
    "\n",
    "\n",
    "def fitness(vector):\n",
    "    random_values = {i: random.uniform(0, 1) for i in range(n*n)}\n",
    "    if isinstance(vector, str):\n",
    "        vector = np.array(list(map(int, vector)))\n",
    "\n",
    "    # Reshape vector into n x n grid\n",
    "    grid = np.reshape(vector, (n, n))\n",
    "\n",
    "    # Compute fitness by summing pixel values\n",
    "    fitness_values = np.zeros_like(grid, dtype=float)\n",
    "    for i in range(n):\n",
    "        for j in range(n):\n",
    "            if grid[i, j] == 1:\n",
    "                fitness_values[i, j] = diamond_border[i, j]\n",
    "            else:\n",
    "                fitness_values[i, j] = random_values[i*n + j]\n",
    "\n",
    "    fitness_base = np.sum(fitness_values)\n",
    "\n",
    "    return fitness_base\n"
   ]
  },
  {
   "cell_type": "code",
   "execution_count": 2,
   "id": "331d1243-f263-45d8-9545-0468df678570",
   "metadata": {},
   "outputs": [],
   "source": [
    "smoothed_candidates_df = pd.read_csv('/home/gridsan/akirjner/protein_design/GGS-private/ckpt/Diamond/mutations_0/percentile_0.0_1.0/smoothed/run_06D_08M_2023Y_00h_07m_13s/samples/run_2023-08-06_10-22/seed_1.csv')\n",
    "unsmoothed_candidates_df = pd.read_csv('/home/gridsan/akirjner/protein_design/GGS-private/ckpt//Diamond/mutations_0/percentile_0.0_1.0/unsmoothed/run_05D_08M_2023Y_21h_41m_02s/samples/run_2023-08-05_22-33/seed_1.csv')"
   ]
  },
  {
   "cell_type": "code",
   "execution_count": 3,
   "id": "feb98e7a-2325-452d-bfd5-3ba5b024a039",
   "metadata": {},
   "outputs": [
    {
     "data": {
      "image/png": "[encoded data removed]",
      "text/plain": [
       "<Figure size 640x480 with 1 Axes>"
      ]
     },
     "metadata": {},
     "output_type": "display_data"
    }
   ],
   "source": [
    "best_predicted_candidate = unsmoothed_candidates_df[unsmoothed_candidates_df.mutant_scores == unsmoothed_candidates_df.mutant_scores.max()].mutant_sequences.values[0]\n",
    "plot_sequence(best_predicted_candidate)"
   ]
  },
  {
   "cell_type": "code",
   "execution_count": 4,
   "id": "669e96b0-717d-47fa-90f8-8ed46b1b82e1",
   "metadata": {},
   "outputs": [
    {
     "data": {
      "image/png": "[encoded data removed]",
      "text/plain": [
       "<Figure size 640x480 with 1 Axes>"
      ]
     },
     "metadata": {},
     "output_type": "display_data"
    }
   ],
   "source": [
    "best_predicted_candidate = smoothed_candidates_df[smoothed_candidates_df.mutant_scores == smoothed_candidates_df.mutant_scores.max()].mutant_sequences.values[0]\n",
    "plot_sequence(best_predicted_candidate)"
   ]
  },
  {
   "cell_type": "code",
   "execution_count": 58,
   "id": "f27e8f10-b4a5-493c-a48e-87b43fefbed4",
   "metadata": {},
   "outputs": [
    {
     "data": {
      "text/plain": [
       "30.793155220332"
      ]
     },
     "execution_count": 58,
     "metadata": {},
     "output_type": "execute_result"
    }
   ],
   "source": [
    "candidates = candidates_df.mutant_sequences\n",
    "fitness(candidates[0])"
   ]
  },
  {
   "cell_type": "code",
   "execution_count": 59,
   "id": "d7dd8a5c-31d1-4099-a7fc-019b292d29f5",
   "metadata": {},
   "outputs": [],
   "source": [
    "fitnesses = []\n",
    "for c in candidates:\n",
    "    fitnesses.append(fitness(c))"
   ]
  },
  {
   "cell_type": "code",
   "execution_count": 72,
   "id": "cb10da34-405d-49f4-bb53-5de92e86cac1",
   "metadata": {},
   "outputs": [
    {
     "data": {
      "image/png": "[encoded data removed]",
      "text/plain": [
       "<Figure size 640x480 with 1 Axes>"
      ]
     },
     "metadata": {},
     "output_type": "display_data"
    }
   ],
   "source": [
    "#max_seq = candidates_df[candidates_df.mutant_scores == candidates_df.mutant_scores.max()].mutant_sequences.values[0]\n",
    "plot_sequence(starting_seq)"
   ]
  },
  {
   "cell_type": "code",
   "execution_count": 13,
   "id": "e9476fca-39dd-4356-9bf2-248e9044d57a",
   "metadata": {},
   "outputs": [
    {
     "name": "stdout",
     "output_type": "stream",
     "text": [
      "0\n",
      "5000\n",
      "10000\n",
      "15000\n",
      "20000\n",
      "25000\n",
      "30000\n",
      "35000\n",
      "40000\n",
      "45000\n",
      "50000\n",
      "55000\n",
      "60000\n",
      "65000\n",
      "70000\n",
      "75000\n",
      "80000\n",
      "85000\n",
      "90000\n",
      "95000\n"
     ]
    }
   ],
   "source": [
    "landscape_data = []\n",
    "seen_set = set()\n",
    "# Sample 100k binary vectors and compute their fitnesses\n",
    "while len(landscape_data) < 1e5:\n",
    "    # Generate random binary vector\n",
    "    vector = np.random.randint(2, size=n*n)\n",
    "    seq = ''.join(map(str, vector.astype(int)))\n",
    "    if seq in seen_set:\n",
    "        continue\n",
    "    seen_set.add(seq)\n",
    "    # Compute fitness\n",
    "    fitness_value = fitness(vector)\n",
    "    \n",
    "    # Convert vector to string for easier storage and retrieval\n",
    "    sequence = ''.join(map(str, vector))\n",
    "    if len(landscape_data) % 5000 == 0:\n",
    "        print(len(landscape_data))\n",
    "    # Append sequence and fitness to data\n",
    "    landscape_data.append([sequence, fitness_value])"
   ]
  },
  {
   "cell_type": "code",
   "execution_count": 14,
   "id": "f2a9ac00-9ae1-44f0-93f9-21b0894c1813",
   "metadata": {},
   "outputs": [],
   "source": [
    "landscape_df = pd.DataFrame(landscape_data, columns=['sequence', 'target'])\n",
    "starting_seq = landscape_df[landscape_df.target == landscape_df.target[1:].median()].sequence.values[0]"
   ]
  },
  {
   "cell_type": "code",
   "execution_count": 15,
   "id": "a80aaedd-01b6-4d06-8d7c-3f4a2ccbece7",
   "metadata": {},
   "outputs": [
    {
     "data": {
      "text/plain": [
       "'000000010111010110011101100110001110101111100000011111011000100011001101001100101010110000110111110000100011111000001110010101010011100101100000111011010001100111011010001101101111111011101001100011110010100110110100100111111010011111010110011101100000100101010011011101101001100010000011100111000010000011111001111100101110010111011111110110110111011011100101101011001101101100110000111010100101000110110000000011100011101111010101101100010'"
      ]
     },
     "execution_count": 15,
     "metadata": {},
     "output_type": "execute_result"
    }
   ],
   "source": [
    "starting_seq"
   ]
  },
  {
   "cell_type": "code",
   "execution_count": 16,
   "id": "6c9ecc4b-83b3-4a3e-8b2b-6e6c1bf9ec91",
   "metadata": {},
   "outputs": [
    {
     "data": {
      "image/png": "[encoded data removed]",
      "text/plain": [
       "<Figure size 640x480 with 1 Axes>"
      ]
     },
     "metadata": {},
     "output_type": "display_data"
    }
   ],
   "source": [
    "plot_sequence(starting_seq)"
   ]
  },
  {
   "cell_type": "code",
   "execution_count": 5,
   "id": "d3ead7b8-4f5d-4fec-8af3-47bdceb1e999",
   "metadata": {},
   "outputs": [
    {
     "ename": "KeyboardInterrupt",
     "evalue": "",
     "output_type": "error",
     "traceback": [
      "\u001b[0;31m---------------------------------------------------------------------------\u001b[0m",
      "\u001b[0;31mKeyboardInterrupt\u001b[0m                         Traceback (most recent call last)",
      "Cell \u001b[0;32mIn[5], line 13\u001b[0m\n\u001b[1;32m     11\u001b[0m seen_set\u001b[38;5;241m.\u001b[39madd(seq)\n\u001b[1;32m     12\u001b[0m \u001b[38;5;66;03m# Compute fitness\u001b[39;00m\n\u001b[0;32m---> 13\u001b[0m fitness_value \u001b[38;5;241m=\u001b[39m \u001b[43mfitness\u001b[49m\u001b[43m(\u001b[49m\u001b[43mvector\u001b[49m\u001b[43m)\u001b[49m\n\u001b[1;32m     15\u001b[0m \u001b[38;5;66;03m# Convert vector to string for easier storage and retrieval\u001b[39;00m\n\u001b[1;32m     16\u001b[0m sequence \u001b[38;5;241m=\u001b[39m \u001b[38;5;124m'\u001b[39m\u001b[38;5;124m'\u001b[39m\u001b[38;5;241m.\u001b[39mjoin(\u001b[38;5;28mmap\u001b[39m(\u001b[38;5;28mstr\u001b[39m, vector))\n",
      "Cell \u001b[0;32mIn[1], line 96\u001b[0m, in \u001b[0;36mfitness\u001b[0;34m(vector)\u001b[0m\n\u001b[1;32m     94\u001b[0m             fitness_values[i, j] \u001b[38;5;241m=\u001b[39m diamond_border[i, j]\n\u001b[1;32m     95\u001b[0m         \u001b[38;5;28;01melse\u001b[39;00m:\n\u001b[0;32m---> 96\u001b[0m             \u001b[43mfitness_values\u001b[49m\u001b[43m[\u001b[49m\u001b[43mi\u001b[49m\u001b[43m,\u001b[49m\u001b[43m \u001b[49m\u001b[43mj\u001b[49m\u001b[43m]\u001b[49m \u001b[38;5;241m=\u001b[39m random_values[i\u001b[38;5;241m*\u001b[39mn \u001b[38;5;241m+\u001b[39m j]\n\u001b[1;32m     98\u001b[0m fitness_base \u001b[38;5;241m=\u001b[39m np\u001b[38;5;241m.\u001b[39mmean(fitness_values)\n\u001b[1;32m    100\u001b[0m \u001b[38;5;28;01mreturn\u001b[39;00m fitness_base\n",
      "\u001b[0;31mKeyboardInterrupt\u001b[0m: "
     ]
    }
   ],
   "source": [
    "# Initialize list to hold sequences and their targets\n",
    "data = []\n",
    "seen_set = set()\n",
    "# Sample 100k binary vectors and compute their fitnesses\n",
    "while len(data) < 1e5:\n",
    "    # Generate random binary vector\n",
    "    vector = np.random.randint(2, size=n*n)\n",
    "    seq = ''.join(map(str, vector.astype(int)))\n",
    "    if seq in seen_set:\n",
    "        continue\n",
    "    seen_set.add(seq)\n",
    "    # Compute fitness\n",
    "    fitness_value = fitness(vector)\n",
    "    \n",
    "    # Convert vector to string for easier storage and retrieval\n",
    "    sequence = ''.join(map(str, vector))\n",
    "    \n",
    "    # Append sequence and fitness to data\n",
    "    data.append([sequence, fitness_value])\n",
    "\n",
    "# Create a DataFrame\n",
    "df = pd.DataFrame(data, columns=['sequence', 'target'])"
   ]
  },
  {
   "cell_type": "code",
   "execution_count": 17,
   "id": "acb9bbe5-240b-4a81-9f6b-beec89304846",
   "metadata": {},
   "outputs": [],
   "source": [
    "data = []\n",
    "while len(data) < 5e3:\n",
    "    # Start from the known sequence\n",
    "    vector = np.array(list(map(int, starting_seq)))\n",
    "\n",
    "    # Draw k from a Poisson distribution\n",
    "    k = np.random.poisson(3)\n",
    "    \n",
    "    # Randomly choose k positions to flip\n",
    "    positions_to_flip = np.random.choice(n*n, k, replace=False)\n",
    "    for pos in positions_to_flip:\n",
    "        vector[pos] = 1 - vector[pos]  # Flip the bit\n",
    "        \n",
    "    seq = ''.join(map(str, vector.astype(int)))\n",
    "    if seq in seen_set:\n",
    "        continue\n",
    "    seen_set.add(seq)\n",
    "    \n",
    "    # Compute fitness\n",
    "    fitness_value = fitness(vector)\n",
    "    \n",
    "    # Append sequence and fitness to data\n",
    "    data.append([seq, fitness_value])\n",
    "\n",
    "# Create a DataFrame\n",
    "df = pd.DataFrame(data, columns=['sequence', 'target'])"
   ]
  },
  {
   "cell_type": "code",
   "execution_count": 18,
   "id": "d77e6cec-f3a9-41cf-b162-86fe685d835b",
   "metadata": {},
   "outputs": [
    {
     "data": {
      "text/html": [
       "<div>\n",
       "<style scoped>\n",
       "    .dataframe tbody tr th:only-of-type {\n",
       "        vertical-align: middle;\n",
       "    }\n",
       "\n",
       "    .dataframe tbody tr th {\n",
       "        vertical-align: top;\n",
       "    }\n",
       "\n",
       "    .dataframe thead th {\n",
       "        text-align: right;\n",
       "    }\n",
       "</style>\n",
       "<table border=\"1\" class=\"dataframe\">\n",
       "  <thead>\n",
       "    <tr style=\"text-align: right;\">\n",
       "      <th></th>\n",
       "      <th>sequence</th>\n",
       "      <th>target</th>\n",
       "    </tr>\n",
       "  </thead>\n",
       "  <tbody>\n",
       "    <tr>\n",
       "      <th>0</th>\n",
       "      <td>0000000101111101100111011001100011101011111000...</td>\n",
       "      <td>123.873405</td>\n",
       "    </tr>\n",
       "    <tr>\n",
       "      <th>1</th>\n",
       "      <td>0000000101110101100111011001100011101011111000...</td>\n",
       "      <td>129.442581</td>\n",
       "    </tr>\n",
       "    <tr>\n",
       "      <th>2</th>\n",
       "      <td>0000000101100101100111011001100011101011111000...</td>\n",
       "      <td>122.954588</td>\n",
       "    </tr>\n",
       "    <tr>\n",
       "      <th>3</th>\n",
       "      <td>0000000101110101100111011001100011101011111000...</td>\n",
       "      <td>125.125911</td>\n",
       "    </tr>\n",
       "    <tr>\n",
       "      <th>4</th>\n",
       "      <td>0000000101110101100111011001100011101011111000...</td>\n",
       "      <td>118.112140</td>\n",
       "    </tr>\n",
       "  </tbody>\n",
       "</table>\n",
       "</div>"
      ],
      "text/plain": [
       "                                            sequence      target\n",
       "0  0000000101111101100111011001100011101011111000...  123.873405\n",
       "1  0000000101110101100111011001100011101011111000...  129.442581\n",
       "2  0000000101100101100111011001100011101011111000...  122.954588\n",
       "3  0000000101110101100111011001100011101011111000...  125.125911\n",
       "4  0000000101110101100111011001100011101011111000...  118.112140"
      ]
     },
     "execution_count": 18,
     "metadata": {},
     "output_type": "execute_result"
    }
   ],
   "source": [
    "df.head()"
   ]
  },
  {
   "cell_type": "code",
   "execution_count": 19,
   "id": "eda205ce-1762-4d59-8820-3e1164467ca9",
   "metadata": {},
   "outputs": [],
   "source": [
    "df['augmented'] = [0]*df.shape[0]"
   ]
  },
  {
   "cell_type": "code",
   "execution_count": 20,
   "id": "84ecede8-6766-4b49-9a79-f595a96a32d3",
   "metadata": {},
   "outputs": [],
   "source": [
    "df.to_csv('../data/Diamond/ground_truth.csv', index = False)"
   ]
  },
  {
   "cell_type": "code",
   "execution_count": 80,
   "id": "304bff31-e84d-4fbe-89c0-d8f10a04a1ac",
   "metadata": {},
   "outputs": [],
   "source": [
    "from polyleven import levenshtein\n",
    "df['hamming_dist'] = df['sequence'].apply(lambda seq: levenshtein(seq, starting_seq))"
   ]
  },
  {
   "cell_type": "code",
   "execution_count": 53,
   "id": "f73dd6a3-66b7-4d91-994a-9c6eb28be6c0",
   "metadata": {},
   "outputs": [
    {
     "data": {
      "text/plain": [
       "(array([ 82., 355., 262., 161.,   0.,  84.,  33.,  19.,   3.,   1.]),\n",
       " array([ 2. ,  2.8,  3.6,  4.4,  5.2,  6. ,  6.8,  7.6,  8.4,  9.2, 10. ]),\n",
       " <BarContainer object of 10 artists>)"
      ]
     },
     "execution_count": 53,
     "metadata": {},
     "output_type": "execute_result"
    },
    {
     "data": {
      "image/png": "[encoded data removed]",
      "text/plain": [
       "<Figure size 640x480 with 1 Axes>"
      ]
     },
     "metadata": {},
     "output_type": "display_data"
    }
   ],
   "source": [
    "plt.hist(df.hamming_dist)"
   ]
  },
  {
   "cell_type": "code",
   "execution_count": 81,
   "id": "59018468-31e1-40f9-808c-3ac6c39e23b4",
   "metadata": {},
   "outputs": [
    {
     "data": {
      "image/png": "[encoded data removed]",
      "text/plain": [
       "<Figure size 640x480 with 1 Axes>"
      ]
     },
     "metadata": {},
     "output_type": "display_data"
    }
   ],
   "source": [
    "plt.scatter(df.hamming_dist, df.target)\n",
    "plt.xlabel(\"Hamming Distance From Diamond Sequence\")\n",
    "plt.ylabel(\"Fitness\")\n",
    "plt.show()"
   ]
  },
  {
   "cell_type": "code",
   "execution_count": 192,
   "id": "e0bdb235-b61b-4d69-824d-2cbf4156345d",
   "metadata": {},
   "outputs": [],
   "source": [
    "gfp_wt = 'SKGEELFTGVVPILVELDGDVNGHKFSVSGEGEGDATYGKLTLKFICTTGKLPVPWPTLVTTLSYGVQCFSRYPDHMKQHDFFKSAMPEGYVQERTIFFKDDGNYKTRAEVKFEGDTLVNRIELKGIDFKEDGNILGHKLEYNYNSHNVYIMADKQKNGIKVNFKIRHNIEDGSVQLADHYQQNTPIGDGPVLLPDNHYLSTQSALSKDPNEKRDHMVLLEFVTAAGITHGMDELYK'\n",
    "gt_gfp = pd.read_csv('/home/gridsan/akirjner/protein_design/GGS/data/GFP/ground_truth.csv')\n",
    "gt_gfp['hamming_dist'] = gt_gfp['sequence'].apply(lambda seq: levenshtein(seq, gfp_wt))"
   ]
  },
  {
   "cell_type": "code",
   "execution_count": 195,
   "id": "848a8da1-03c8-4005-bf89-aaa29d27302b",
   "metadata": {},
   "outputs": [
    {
     "data": {
      "image/png": "[encoded data removed]",
      "text/plain": [
       "<Figure size 640x480 with 1 Axes>"
      ]
     },
     "metadata": {},
     "output_type": "display_data"
    }
   ],
   "source": [
    "plt.scatter(gt_gfp.hamming_dist, gt_gfp.target)\n",
    "plt.xlabel(\"Hamming Distance From WT Sequence\")\n",
    "plt.ylabel(\"Fitness\")\n",
    "plt.ylim(1, 4.5)\n",
    "plt.show()"
   ]
  },
  {
   "cell_type": "code",
   "execution_count": 85,
   "id": "7631c9fd-6c04-4332-98a9-9960c22d3c8d",
   "metadata": {},
   "outputs": [],
   "source": [
    "max_seq = df[df.target == df.target.max()].sequence.values[0]"
   ]
  },
  {
   "cell_type": "code",
   "execution_count": 86,
   "id": "cb07832f-5ba0-4434-b895-ad080f2be397",
   "metadata": {},
   "outputs": [
    {
     "data": {
      "image/png": "[encoded data removed]",
      "text/plain": [
       "<Figure size 640x480 with 1 Axes>"
      ]
     },
     "metadata": {},
     "output_type": "display_data"
    }
   ],
   "source": [
    "plot_sequence(max_seq)"
   ]
  },
  {
   "cell_type": "code",
   "execution_count": 83,
   "id": "e29d9528-9bbe-4c13-872e-d634a7cc0d65",
   "metadata": {},
   "outputs": [
    {
     "data": {
      "text/plain": [
       "0.5460170452218472"
      ]
     },
     "execution_count": 83,
     "metadata": {},
     "output_type": "execute_result"
    }
   ],
   "source": [
    "best_seq = generate_diamond_sequence(n)\n",
    "fitness(best_seq)"
   ]
  },
  {
   "cell_type": "code",
   "execution_count": 84,
   "id": "4334dbc9-47ec-47e7-885d-8ddeb9f78b22",
   "metadata": {},
   "outputs": [
    {
     "data": {
      "text/plain": [
       "0.3269845911826503"
      ]
     },
     "execution_count": 84,
     "metadata": {},
     "output_type": "execute_result"
    }
   ],
   "source": [
    "df.target.max()"
   ]
  },
  {
   "cell_type": "code",
   "execution_count": 87,
   "id": "811c3342-75de-4aad-b35f-3e8222adaf8e",
   "metadata": {},
   "outputs": [
    {
     "data": {
      "image/png": "[encoded data removed]",
      "text/plain": [
       "<Figure size 640x480 with 1 Axes>"
      ]
     },
     "metadata": {},
     "output_type": "display_data"
    }
   ],
   "source": [
    "plot_sequence(best_seq)"
   ]
  },
  {
   "cell_type": "code",
   "execution_count": null,
   "id": "670c1f87-70c3-4643-a3af-646121ac374f",
   "metadata": {},
   "outputs": [],
   "source": []
  }
 ],
 "metadata": {
  "kernelspec": {
   "display_name": "ggs",
   "language": "python",
   "name": "ggs"
  },
  "language_info": {
   "codemirror_mode": {
    "name": "ipython",
    "version": 3
   },
   "file_extension": ".py",
   "mimetype": "text/x-python",
   "name": "python",
   "nbconvert_exporter": "python",
   "pygments_lexer": "ipython3",
   "version": "3.9.16"
  }
 },
 "nbformat": 4,
 "nbformat_minor": 5
}
