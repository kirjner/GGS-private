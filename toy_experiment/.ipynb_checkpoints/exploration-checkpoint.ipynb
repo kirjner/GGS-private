{
 "cells": [
  {
   "cell_type": "code",
   "execution_count": 130,
   "id": "40c99827-18cc-4f90-b686-444fdc744b3a",
   "metadata": {},
   "outputs": [],
   "source": [
    "import numpy as np\n",
    "import pandas as pd\n",
    "from tqdm import tqdm\n",
    "\n",
    "# Set a seed for reproducibility\n",
    "np.random.seed(42)\n",
    "\n",
    "def generate_diamond_border(n, dtype = 'int'):\n",
    "    # Create an n x n matrix filled with zeros\n",
    "    diamond_border = np.zeros((n, n))\n",
    "\n",
    "    # Determine the size of the diamond\n",
    "    diamond_size = n // 2\n",
    "\n",
    "    for i in range(diamond_size):\n",
    "        # Top part of the diamond\n",
    "        diamond_border[i, diamond_size - i] = 1\n",
    "        diamond_border[i, diamond_size + i] = 1\n",
    "\n",
    "        # Bottom part of the diamond\n",
    "        diamond_border[n - i - 1, diamond_size - i] = 1\n",
    "        diamond_border[n - i - 1, diamond_size + i] = 1\n",
    "    if n % 2 == 1:\n",
    "        diamond_border[diamond_size, 0] = 1\n",
    "        diamond_border[diamond_size, -1] = 1\n",
    "    if dtype == 'bool':\n",
    "        return diamond_border.astype(bool)\n",
    "    return diamond_border\n",
    "\n",
    "# Generate the diamond border and noise\n",
    "n = 9\n",
    "diamond_border = generate_diamond_border(n)\n",
    "\n",
    "\n",
    "\n",
    "def plot_sequence(sequence):\n",
    "    # Convert sequence from string to list of integers\n",
    "    vector = np.array(list(map(int, sequence)))\n",
    "\n",
    "    # Reshape vector into n x n grid\n",
    "    grid = np.reshape(vector, (n, n))\n",
    "\n",
    "    # Create a figure and a set of subplots\n",
    "    fig, ax = plt.subplots()\n",
    "\n",
    "    # Display data as an image\n",
    "    ax.imshow(grid, cmap='gray_r')\n",
    "\n",
    "    # Draw gridlines\n",
    "    ax.grid(True, which='both', color='black', linewidth=1)\n",
    "\n",
    "    # Configure gridlines\n",
    "    ax.set_xticks(np.arange(-0.5, n, 1), minor=False)\n",
    "    ax.set_yticks(np.arange(-0.5, n, 1), minor=False)\n",
    "    \n",
    "    # Remove labels from gridlines\n",
    "    ax.set_xticklabels([])\n",
    "    ax.set_yticklabels([])\n",
    "\n",
    "    # Display the plot\n",
    "    plt.show()\n",
    "\n",
    "import random\n",
    "\n",
    "# Initialize a dictionary with random values between 0 and 0.5 for each position\n",
    "random_values = {i: random.uniform(0, 01) for i in range(n*n)}\n",
    "\n",
    "def fitness(vector):\n",
    "    if isinstance(vector, str):\n",
    "        vector = np.array(list(map(int, vector)))\n",
    "\n",
    "    # Reshape vector into n x n grid\n",
    "    grid = np.reshape(vector, (n, n))\n",
    "\n",
    "    # Compute fitness by summing pixel values\n",
    "    fitness_values = np.zeros_like(grid, dtype=float)\n",
    "    for i in range(n):\n",
    "        for j in range(n):\n",
    "            if grid[i, j] == 1:\n",
    "                fitness_values[i, j] = diamond_border[i, j]\n",
    "            else:\n",
    "                fitness_values[i, j] = random_values[i*n + j]\n",
    "\n",
    "    fitness_base = np.sum(fitness_values)\n",
    "\n",
    "    return fitness_base\n"
   ]
  },
  {
   "cell_type": "code",
   "execution_count": 112,
   "id": "80fdb560-4e14-499c-8fdb-c3a5896b870b",
   "metadata": {},
   "outputs": [],
   "source": [
    "def fitness(vector, ruggedness=0.01):\n",
    "    if isinstance(vector, str):\n",
    "        vector = np.array(list(map(int, vector)))\n",
    "\n",
    "    # Reshape vector into n x n grid\n",
    "    grid = np.reshape(vector, (n, n))\n",
    "\n",
    "    # Get Manhattan distance of each point to the center\n",
    "    x, y = np.indices(grid.shape)\n",
    "    center = np.array([(n - 1) / 2, (n - 1) / 2])\n",
    "    manhattan_dist = np.abs(x - center[0]) + np.abs(y - center[1])\n",
    "\n",
    "    # Calculate base fitness with sinusoidal function for local optima\n",
    "    # Reduce the frequency by the ruggedness factor\n",
    "    local_fitness = np.sin(2 * np.pi * manhattan_dist * ruggedness / n)\n",
    "\n",
    "    # Get the diamond border\n",
    "    diamond_border = generate_diamond_border(n, 'bool')\n",
    "\n",
    "    # Calculate the Euclidean distance from each point to the nearest point on the diamond border\n",
    "    diamond_dist = np.zeros((n, n))\n",
    "    for i in range(n):\n",
    "        for j in range(n):\n",
    "            diamond_dist[i, j] = np.min(np.sqrt((x[i, j] - x[diamond_border]) ** 2 + (y[i, j] - y[diamond_border]) ** 2))\n",
    "\n",
    "    # Calculate global trend fitness with smooth decreasing function based on the diamond distance\n",
    "    global_fitness = np.exp(-diamond_dist / n)\n",
    "\n",
    "    # Combine local and global fitnesses\n",
    "    combined_fitness = np.where(grid == 1, local_fitness + global_fitness, 0.5)\n",
    "\n",
    "    # Compute overall fitness\n",
    "    fitness = np.sum(combined_fitness)\n",
    "\n",
    "    return fitness"
   ]
  },
  {
   "cell_type": "code",
   "execution_count": 95,
   "id": "327febc6-637f-4a8f-b102-912c71cae65d",
   "metadata": {},
   "outputs": [],
   "source": [
    "# def fitness(vector):\n",
    "#     if isinstance(vector, str):\n",
    "#         vector = np.array(list(map(int, sequence)))\n",
    "#     # Reshape vector into n x n grid\n",
    "#     grid = np.reshape(vector, (n, n))\n",
    "\n",
    "#     # Get Manhattan distance of each point to the center\n",
    "#     x, y = np.indices(grid.shape)\n",
    "#     center = np.array([(n - 1) / 2, (n - 1) / 2])\n",
    "#     manhattan_dist = np.abs(x - center[0]) + np.abs(y - center[1])\n",
    "\n",
    "#     # Calculate base fitness with sinusoidal function for local optima\n",
    "#     local_fitness = np.sin(2 * np.pi * 0.5*manhattan_dist / n)\n",
    "\n",
    "#     # Calculate global trend fitness with smooth decreasing function\n",
    "#     global_fitness = np.exp(-manhattan_dist / n)\n",
    "\n",
    "#     # Combine local and global fitnesses\n",
    "#     combined_fitness = np.where(grid == 1, local_fitness + global_fitness, 0.5)\n",
    "\n",
    "#     # Compute overall fitness\n",
    "#     fitness = np.sum(combined_fitness)\n",
    "\n",
    "#     return fitness\n",
    "# def fitness(vector):\n",
    "#     # Reshape vector into n x n grid\n",
    "#     grid = np.reshape(vector, (n, n))\n",
    "\n",
    "#     # Get Manhattan distance of each point to the center\n",
    "#     x, y = np.indices(grid.shape)\n",
    "#     center = np.array([(n - 1) / 2, (n - 1) / 2])\n",
    "#     manhattan_dist = np.abs(x - center[0]) + np.abs(y - center[1])\n",
    "\n",
    "#     # Calculate fitness with sinusoidal function for local optima and minima\n",
    "#     local_fitness = np.sin(2 * np.pi * manhattan_dist / n)\n",
    "\n",
    "#     # Calculate global trend fitness with smooth decreasing function\n",
    "#     global_fitness = np.exp(-manhattan_dist / n)\n",
    "\n",
    "#     # Combine local and global fitnesses\n",
    "#     combined_fitness = np.where(grid == 1, local_fitness * global_fitness, 0.5)\n",
    "\n",
    "#     # Compute overall fitness\n",
    "#     fitness = np.sum(combined_fitness)\n",
    "\n",
    "#     return fitness"
   ]
  },
  {
   "cell_type": "code",
   "execution_count": 49,
   "id": "87e871e8-8787-4cb4-bc4b-999ddf8ad317",
   "metadata": {},
   "outputs": [
    {
     "data": {
      "text/plain": [
       "array([[0., 0., 0., 0., 1., 0., 0., 0., 0.],\n",
       "       [0., 0., 0., 1., 0., 1., 0., 0., 0.],\n",
       "       [0., 0., 1., 0., 0., 0., 1., 0., 0.],\n",
       "       [0., 1., 0., 0., 0., 0., 0., 1., 0.],\n",
       "       [1., 0., 0., 0., 0., 0., 0., 0., 1.],\n",
       "       [0., 1., 0., 0., 0., 0., 0., 1., 0.],\n",
       "       [0., 0., 1., 0., 0., 0., 1., 0., 0.],\n",
       "       [0., 0., 0., 1., 0., 1., 0., 0., 0.],\n",
       "       [0., 0., 0., 0., 1., 0., 0., 0., 0.]])"
      ]
     },
     "execution_count": 49,
     "metadata": {},
     "output_type": "execute_result"
    }
   ],
   "source": [
    "diamond_border"
   ]
  },
  {
   "cell_type": "code",
   "execution_count": 131,
   "id": "d3ead7b8-4f5d-4fec-8af3-47bdceb1e999",
   "metadata": {},
   "outputs": [
    {
     "name": "stderr",
     "output_type": "stream",
     "text": [
      "100%|██████████| 100000/100000 [00:07<00:00, 12619.42it/s]\n"
     ]
    }
   ],
   "source": [
    "# Initialize list to hold sequences and their targets\n",
    "data = []\n",
    "\n",
    "# Sample 100k binary vectors and compute their fitnesses\n",
    "for _ in tqdm(range(100000)):\n",
    "    # Generate random binary vector\n",
    "    vector = np.random.randint(2, size=n*n)\n",
    "    \n",
    "    # Compute fitness\n",
    "    fitness_value = fitness(vector)\n",
    "    \n",
    "    # Convert vector to string for easier storage and retrieval\n",
    "    sequence = ''.join(map(str, vector))\n",
    "    \n",
    "    # Append sequence and fitness to data\n",
    "    data.append([sequence, fitness_value])\n",
    "\n",
    "# Create a DataFrame\n",
    "df = pd.DataFrame(data, columns=['sequence', 'target'])"
   ]
  },
  {
   "cell_type": "code",
   "execution_count": 132,
   "id": "56afef45-0302-40dd-8a3c-0e595d8e5d1d",
   "metadata": {},
   "outputs": [
    {
     "data": {
      "text/plain": [
       "(array([  1.,   0.,   0.,   0.,   0.,   0.,   0.,   0.,   0.,   0.,   0.,\n",
       "          0.,   0.,   0.,   0.,   0.,   0.,   0.,   0.,   0.,   0.,   0.,\n",
       "          0.,   0.,   0.,   0.,   0.,   0.,   0.,   0.,   0.,   1.,   0.,\n",
       "          1.,   0.,   0.,   0.,   0.,   0.,   0.,   0.,   0.,   0.,   0.,\n",
       "          0.,   0.,   0.,   0.,   0.,   0.,   0.,   0.,   0.,   0.,   0.,\n",
       "          0.,   0.,   0.,   1.,   0.,   0.,   0.,   0.,   1.,   0.,   0.,\n",
       "          1.,   0.,   0.,   1.,   1.,   0.,   0.,   0.,   1.,   1.,   0.,\n",
       "          0.,   1.,   0.,   0.,   0.,   0.,   0.,   2.,   0.,   0.,   0.,\n",
       "          1.,   1.,   1.,   1.,   0.,   2.,   0.,   1.,   0.,   1.,   1.,\n",
       "          0.,   0.,   0.,   0.,   2.,   0.,   1.,   3.,   1.,   1.,   1.,\n",
       "          0.,   4.,   0.,   1.,   1.,   3.,   0.,   2.,   1.,   2.,   0.,\n",
       "          2.,   3.,   4.,   2.,   1.,   2.,   1.,   3.,   4.,   1.,   2.,\n",
       "          2.,   2.,   1.,   0.,   4.,   5.,   0.,   0.,   3.,   7.,   4.,\n",
       "          2.,   4.,   4.,   4.,   2.,   3.,   3.,   3.,   2.,   1.,   5.,\n",
       "          3.,   4.,   2.,   8.,   3.,   3.,   2.,   5.,   1.,   7.,   3.,\n",
       "          4.,   3.,   6.,   6.,   8.,   2.,   9.,   6.,   9.,  10.,   2.,\n",
       "          8.,   4.,   5.,  12.,   7.,   8.,   3.,   9.,   9.,   6.,  11.,\n",
       "         13.,   7.,  12.,   8.,   9.,  14.,   8.,   6.,   7.,   6.,   6.,\n",
       "         15.,  13.,  12.,   8.,  12.,  10.,  12.,  10.,  15.,  12.,  12.,\n",
       "         18.,  14.,  15.,  13.,  14.,  12.,  22.,  16.,  15.,  24.,  15.,\n",
       "         18.,  20.,  18.,  16.,  18.,  21.,  19.,  16.,  16.,  17.,  14.,\n",
       "         19.,  20.,  26.,  21.,  30.,  16.,  18.,  34.,  33.,  20.,  22.,\n",
       "         30.,  22.,  32.,  30.,  34.,  23.,  37.,  22.,  32.,  25.,  24.,\n",
       "         36.,  31.,  32.,  29.,  36.,  38.,  37.,  30.,  40.,  29.,  45.,\n",
       "         46.,  34.,  48.,  32.,  35.,  35.,  49.,  30.,  56.,  43.,  43.,\n",
       "         47.,  41.,  49.,  45.,  56.,  59.,  50.,  59.,  62.,  64.,  58.,\n",
       "         55.,  57.,  57.,  65.,  58.,  59.,  70.,  60.,  59.,  60.,  78.,\n",
       "         71.,  61.,  71.,  64.,  67.,  67.,  81.,  82.,  92.,  71.,  87.,\n",
       "         78.,  80.,  88.,  78.,  89.,  88.,  83.,  76., 100.,  91.,  90.,\n",
       "         97., 102., 105.,  94.,  98., 104.,  97.,  93.,  79., 116.,  95.,\n",
       "        111., 105., 111., 111., 101., 118., 115., 127., 116., 126., 133.,\n",
       "        115., 120., 138., 148., 112., 117., 145., 130., 122., 143., 146.,\n",
       "        152., 131., 158., 163., 140., 156., 127., 159., 137., 159., 159.,\n",
       "        197., 132., 165., 153., 145., 172., 159., 182., 160., 165., 164.,\n",
       "        172., 171., 172., 178., 201., 186., 183., 166., 172., 177., 212.,\n",
       "        195., 187., 197., 205., 184., 174., 181., 179., 178., 199., 204.,\n",
       "        200., 206., 200., 234., 195., 213., 214., 218., 213., 247., 204.,\n",
       "        230., 239., 225., 263., 215., 253., 241., 233., 241., 239., 226.,\n",
       "        240., 225., 245., 246., 254., 248., 261., 236., 242., 238., 235.,\n",
       "        260., 274., 272., 265., 242., 268., 272., 234., 299., 247., 293.,\n",
       "        270., 250., 255., 269., 303., 259., 306., 335., 300., 278., 269.,\n",
       "        252., 271., 281., 300., 279., 314., 317., 296., 297., 280., 265.,\n",
       "        308., 308., 321., 313., 311., 300., 299., 330., 305., 307., 283.,\n",
       "        278., 349., 331., 280., 322., 295., 317., 341., 338., 315., 303.,\n",
       "        330., 302., 312., 307., 312., 303., 321., 339., 348., 328., 322.,\n",
       "        295., 334., 310., 276., 343., 328., 304., 314., 326., 346., 323.,\n",
       "        292., 314., 293., 326., 299., 295., 312., 342., 300., 299., 333.,\n",
       "        313., 329., 321., 308., 351., 328., 321., 306., 311., 310., 349.,\n",
       "        308., 335., 321., 307., 318., 335., 309., 333., 308., 316., 336.,\n",
       "        333., 341., 321., 356., 303., 324., 308., 316., 298., 308., 330.,\n",
       "        292., 321., 321., 339., 316., 315., 314., 324., 314., 342., 318.,\n",
       "        278., 288., 294., 287., 286., 261., 330., 306., 293., 293., 318.,\n",
       "        265., 287., 289., 281., 280., 268., 257., 261., 238., 260., 271.,\n",
       "        267., 272., 249., 240., 295., 239., 292., 279., 261., 224., 286.,\n",
       "        268., 238., 272., 254., 261., 268., 279., 291., 263., 239., 262.,\n",
       "        247., 235., 249., 236., 238., 277., 227., 249., 225., 249., 247.,\n",
       "        247., 262., 236., 215., 216., 219., 196., 222., 223., 192., 208.,\n",
       "        227., 225., 213., 232., 187., 205., 195., 196., 192., 200., 205.,\n",
       "        223., 187., 191., 193., 208., 197., 182., 185., 168., 167., 182.,\n",
       "        187., 177., 163., 179., 167., 183., 151., 177., 164., 169., 172.,\n",
       "        157., 156., 169., 149., 145., 152., 149., 129., 139., 140., 162.,\n",
       "        131., 145., 139., 145., 140., 139., 141., 136., 127., 139., 130.,\n",
       "        142., 126., 117., 117., 115., 131., 111., 110.,  95., 110., 111.,\n",
       "        123., 109., 105., 144., 129.,  95., 113., 120., 107., 108.,  91.,\n",
       "         97.,  93., 102.,  84.,  90.,  90.,  92.,  77.,  76.,  81.,  92.,\n",
       "         81.,  90.,  89.,  71.,  66.,  86.,  99.,  86.,  69.,  67.,  58.,\n",
       "         75.,  64.,  78.,  65.,  63.,  77.,  60.,  69.,  62.,  85.,  59.,\n",
       "         69.,  63.,  59.,  49.,  67.,  62.,  69.,  55.,  67.,  55.,  61.,\n",
       "         43.,  53.,  62.,  53.,  56.,  60.,  58.,  34.,  39.,  45.,  41.,\n",
       "         56.,  37.,  39.,  40.,  42.,  46.,  53.,  39.,  41.,  43.,  42.,\n",
       "         43.,  38.,  31.,  38.,  36.,  31.,  30.,  34.,  20.,  30.,  37.,\n",
       "         38.,  39.,  34.,  27.,  22.,  31.,  29.,  23.,  34.,  22.,  24.,\n",
       "         23.,  20.,  32.,  30.,  27.,  22.,  19.,  19.,  22.,  23.,  32.,\n",
       "         23.,  24.,  30.,  10.,  16.,  24.,  19.,  19.,  16.,  13.,  17.,\n",
       "         12.,  16.,  18.,  11.,  14.,   9.,  14.,  14.,  22.,  12.,  12.,\n",
       "         12.,  13.,  14.,   9.,   9.,  11.,   7.,   9.,   6.,  12.,   8.,\n",
       "         10.,  13.,   7.,   6.,   9.,   9.,  10.,   4.,   7.,  10.,   8.,\n",
       "          6.,   9.,   6.,   2.,   8.,   5.,   9.,   2.,   7.,   3.,   5.,\n",
       "          2.,   5.,   5.,   5.,   7.,   7.,   7.,   7.,  10.,   2.,   5.,\n",
       "          4.,   7.,   1.,   2.,   4.,   5.,   4.,   2.,   6.,   3.,   8.,\n",
       "          7.,   3.,   1.,   1.,   5.,   4.,   5.,   4.,   4.,   2.,   3.,\n",
       "          1.,   2.,   0.,   7.,   1.,   6.,   2.,   1.,   4.,   2.,   1.,\n",
       "          2.,   2.,   2.,   2.,   2.,   3.,   3.,   0.,   1.,   3.,   3.,\n",
       "          0.,   2.,   1.,   1.,   1.,   1.,   1.,   1.,   1.,   0.,   1.,\n",
       "          2.,   0.,   0.,   1.,   1.,   1.,   1.,   0.,   0.,   3.,   0.,\n",
       "          0.,   1.,   0.,   0.,   2.,   0.,   0.,   0.,   0.,   0.,   1.,\n",
       "          1.,   0.,   0.,   1.,   3.,   0.,   0.,   0.,   0.,   0.,   0.,\n",
       "          0.,   0.,   1.,   0.,   0.,   0.,   0.,   1.,   1.,   1.,   0.,\n",
       "          2.,   0.,   0.,   0.,   0.,   0.,   0.,   0.,   0.,   0.,   1.,\n",
       "          0.,   0.,   0.,   1.,   0.,   0.,   0.,   0.,   0.,   1.,   0.,\n",
       "          0.,   0.,   0.,   0.,   0.,   0.,   0.,   0.,   0.,   1.]),\n",
       " array([10.80497942, 10.81977996, 10.83458049, ..., 25.57591557,\n",
       "        25.59071611, 25.60551664]),\n",
       " <BarContainer object of 1000 artists>)"
      ]
     },
     "execution_count": 132,
     "metadata": {},
     "output_type": "execute_result"
    },
    {
     "data": {
      "image/png": "[encoded data removed]",
      "text/plain": [
       "<Figure size 640x480 with 1 Axes>"
      ]
     },
     "metadata": {},
     "output_type": "display_data"
    }
   ],
   "source": [
    "import matplotlib.pyplot as plt\n",
    "plt.hist(df.target, bins = 1000)"
   ]
  },
  {
   "cell_type": "code",
   "execution_count": 133,
   "id": "7631c9fd-6c04-4332-98a9-9960c22d3c8d",
   "metadata": {},
   "outputs": [],
   "source": [
    "max_seq = df[df.target == df.target.max()].sequence.values[0]"
   ]
  },
  {
   "cell_type": "code",
   "execution_count": 134,
   "id": "cb07832f-5ba0-4434-b895-ad080f2be397",
   "metadata": {},
   "outputs": [
    {
     "data": {
      "image/png": "[encoded data removed]",
      "text/plain": [
       "<Figure size 640x480 with 1 Axes>"
      ]
     },
     "metadata": {},
     "output_type": "display_data"
    }
   ],
   "source": [
    "plot_sequence(max_seq)"
   ]
  },
  {
   "cell_type": "code",
   "execution_count": 125,
   "id": "04ea9653-e304-40e9-8073-19e5c9f08a1d",
   "metadata": {},
   "outputs": [],
   "source": [
    "def generate_diamond_sequence(n):\n",
    "    # Create the diamond grid using the generate_diamond_border function\n",
    "    diamond_grid = generate_diamond_border(n)\n",
    "\n",
    "    # Flatten the grid into a vector\n",
    "    diamond_vector = diamond_grid.flatten()\n",
    "\n",
    "    # Convert the vector into a binary sequence string\n",
    "    diamond_sequence = ''.join(map(str, diamond_vector.astype(int)))\n",
    "\n",
    "    return diamond_sequence"
   ]
  },
  {
   "cell_type": "code",
   "execution_count": 136,
   "id": "e29d9528-9bbe-4c13-872e-d634a7cc0d65",
   "metadata": {},
   "outputs": [
    {
     "data": {
      "text/plain": [
       "32.00724807709377"
      ]
     },
     "execution_count": 136,
     "metadata": {},
     "output_type": "execute_result"
    }
   ],
   "source": [
    "best_seq = generate_diamond_sequence(9)\n",
    "fitness(best_seq)"
   ]
  },
  {
   "cell_type": "code",
   "execution_count": 135,
   "id": "4334dbc9-47ec-47e7-885d-8ddeb9f78b22",
   "metadata": {},
   "outputs": [
    {
     "data": {
      "text/plain": [
       "25.605516643163245"
      ]
     },
     "execution_count": 135,
     "metadata": {},
     "output_type": "execute_result"
    }
   ],
   "source": [
    "df.target.max()"
   ]
  },
  {
   "cell_type": "code",
   "execution_count": null,
   "id": "812eba9b-5a01-4222-a302-7b4a86c93404",
   "metadata": {},
   "outputs": [],
   "source": []
  }
 ],
 "metadata": {
  "kernelspec": {
   "display_name": "ggs",
   "language": "python",
   "name": "ggs"
  },
  "language_info": {
   "codemirror_mode": {
    "name": "ipython",
    "version": 3
   },
   "file_extension": ".py",
   "mimetype": "text/x-python",
   "name": "python",
   "nbconvert_exporter": "python",
   "pygments_lexer": "ipython3",
   "version": "3.9.16"
  }
 },
 "nbformat": 4,
 "nbformat_minor": 5
}
